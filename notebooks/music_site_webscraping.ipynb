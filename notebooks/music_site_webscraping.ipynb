{
 "cells": [
  {
   "cell_type": "markdown",
   "metadata": {},
   "source": [
    "In this notebook I am going to scrape the content of the website www.ndombolo.co, the site have almost 30 songs in lingala and their french traduction!"
   ]
  },
  {
   "cell_type": "markdown",
   "metadata": {},
   "source": [
    "I will scraping each page and save the content to a pandas dataframe with 2 colums one for lingala and another one for french.\n",
    "\n",
    "We will keep the translation paragraph per paragraph.\n",
    "\n"
   ]
  },
  {
   "cell_type": "markdown",
   "metadata": {},
   "source": [
    "Let us load importnant modules"
   ]
  },
  {
   "cell_type": "code",
   "execution_count": 2,
   "metadata": {},
   "outputs": [
    {
     "name": "stdout",
     "output_type": "stream",
     "text": [
      "Collecting beautifulsoup4\n",
      "  Using cached beautifulsoup4-4.9.0-py3-none-any.whl (109 kB)\n",
      "Requirement already satisfied: pandas in /Users/es.py/Projects/Personal/speed-rw/.venv/lib/python3.6/site-packages (1.0.3)\n",
      "Collecting soupsieve>1.2\n",
      "  Using cached soupsieve-2.0-py2.py3-none-any.whl (32 kB)\n",
      "Requirement already satisfied: numpy>=1.13.3 in /Users/es.py/Projects/Personal/speed-rw/.venv/lib/python3.6/site-packages (from pandas) (1.18.2)\n",
      "Requirement already satisfied: pytz>=2017.2 in /Users/es.py/Projects/Personal/speed-rw/.venv/lib/python3.6/site-packages (from pandas) (2019.3)\n",
      "Requirement already satisfied: python-dateutil>=2.6.1 in /Users/es.py/Projects/Personal/speed-rw/.venv/lib/python3.6/site-packages (from pandas) (2.8.1)\n",
      "Requirement already satisfied: six>=1.5 in /Users/es.py/Projects/Personal/speed-rw/.venv/lib/python3.6/site-packages (from python-dateutil>=2.6.1->pandas) (1.14.0)\n",
      "Installing collected packages: soupsieve, beautifulsoup4\n",
      "Successfully installed beautifulsoup4-4.9.0 soupsieve-2.0\n",
      "\u001b[33mWARNING: You are using pip version 20.0.2; however, version 20.1 is available.\n",
      "You should consider upgrading via the '/Users/es.py/Projects/Personal/speed-rw/.venv/bin/python -m pip install --upgrade pip' command.\u001b[0m\n"
     ]
    }
   ],
   "source": [
    "!pip install beautifulsoup4 pandas"
   ]
  },
  {
   "cell_type": "code",
   "execution_count": 1,
   "metadata": {},
   "outputs": [
    {
     "name": "stderr",
     "output_type": "stream",
     "text": [
      "/Users/es.py/Projects/Personal/speed-rw/.venv/lib/python3.6/site-packages/pandas/compat/__init__.py:117: UserWarning: Could not import the lzma module. Your installed Python is incomplete. Attempting to use lzma compression will result in a RuntimeError.\n",
      "  warnings.warn(msg)\n"
     ]
    }
   ],
   "source": [
    "from pathlib import Path\n",
    "import pandas as pd\n",
    "from bs4 import BeautifulSoup\n",
    "from requests import get\n",
    "from requests.exceptions import RequestException\n",
    "from contextlib import closing"
   ]
  },
  {
   "cell_type": "markdown",
   "metadata": {},
   "source": [
    "We are not scraping the website directly, we have already download the content "
   ]
  },
  {
   "cell_type": "code",
   "execution_count": 6,
   "metadata": {},
   "outputs": [],
   "source": [
    "TRADUCTION_URL = \"http://www.ndombolo.co/chansons/traductions/\""
   ]
  },
  {
   "cell_type": "markdown",
   "metadata": {},
   "source": [
    "Let add our utilities functions "
   ]
  },
  {
   "cell_type": "code",
   "execution_count": 9,
   "metadata": {},
   "outputs": [],
   "source": [
    "def simple_get(url):\n",
    "    \"\"\"\n",
    "    Attempts to get the content at `url` by making an HTTP GET request.\n",
    "    If the content-type of response is some kind of HTML/XML, return the\n",
    "    text content, otherwise return None.\n",
    "    \"\"\"\n",
    "    try:\n",
    "        with closing(get(url, stream=True)) as resp:\n",
    "            if is_good_response(resp):\n",
    "                return resp.content\n",
    "            else:\n",
    "                return None\n",
    "\n",
    "    except RequestException as e:\n",
    "        log_error('Error during requests to {0} : {1}'.format(url, str(e)))\n",
    "        return None"
   ]
  },
  {
   "cell_type": "code",
   "execution_count": 10,
   "metadata": {},
   "outputs": [],
   "source": [
    "def is_good_response(resp):\n",
    "    \"\"\"\n",
    "    Returns True if the response seems to be HTML, False otherwise.\n",
    "    \"\"\"\n",
    "    content_type = resp.headers['Content-Type'].lower()\n",
    "    return (resp.status_code == 200 \n",
    "            and content_type is not None \n",
    "            and content_type.find('html') > -1)"
   ]
  },
  {
   "cell_type": "code",
   "execution_count": 11,
   "metadata": {},
   "outputs": [],
   "source": [
    "def log_error(e):\n",
    "    \"\"\"\n",
    "    It is always a good idea to log errors. \n",
    "    This function just prints them, but you can\n",
    "    make it do anything.\n",
    "    \"\"\"\n",
    "    print(e)"
   ]
  },
  {
   "cell_type": "code",
   "execution_count": 13,
   "metadata": {},
   "outputs": [],
   "source": [
    "path = Path('*')"
   ]
  },
  {
   "cell_type": "code",
   "execution_count": 14,
   "metadata": {},
   "outputs": [
    {
     "data": {
      "text/plain": [
       "<generator object Path.glob at 0x1169398e0>"
      ]
     },
     "execution_count": 14,
     "metadata": {},
     "output_type": "execute_result"
    }
   ],
   "source": [
    "path.glob('r')"
   ]
  },
  {
   "cell_type": "code",
   "execution_count": 80,
   "metadata": {},
   "outputs": [],
   "source": [
    "def list_files(path):\n",
    "    \"\"\"\n",
    "    given a path list all the files in the list that follow a specific format\n",
    "    \"\"\"\n",
    "    content = simple_get(path)\n",
    "    content_html = BeautifulSoup(content, 'html.parser')\n",
    "    tables = content_html.findChildren('table')\n",
    "    table = tables[0]\n",
    "    rows = table.findChildren(['tr'])\n",
    "    for row in rows[4:-1]:\n",
    "        cells = row.findChildren(['td', 'th'])\n",
    "        name_cell = cells[1]\n",
    "        link = name_cell.a\n",
    "        text = link.get('href')\n",
    "        if text.endswith('.php'):\n",
    "            yield text"
   ]
  },
  {
   "cell_type": "code",
   "execution_count": 84,
   "metadata": {},
   "outputs": [],
   "source": [
    "names = list_files(TRADUCTION_URL)"
   ]
  },
  {
   "cell_type": "code",
   "execution_count": 85,
   "metadata": {},
   "outputs": [],
   "source": [
    "names = list(names)"
   ]
  },
  {
   "cell_type": "code",
   "execution_count": 87,
   "metadata": {},
   "outputs": [
    {
     "name": "stdout",
     "output_type": "stream",
     "text": [
      "64\n"
     ]
    }
   ],
   "source": [
    "print(len(names))"
   ]
  },
  {
   "cell_type": "markdown",
   "metadata": {},
   "source": [
    "So we have 64 songs , let see now how we can scrape them"
   ]
  },
  {
   "cell_type": "code",
   "execution_count": 111,
   "metadata": {},
   "outputs": [],
   "source": [
    "def parse_song_lyrics(path):\n",
    "    \"\"\"\n",
    "    parse song web page and return the coresponding lyrics\n",
    "    \"\"\"\n",
    "    content = simple_get(path)\n",
    "    content_html = BeautifulSoup(content, 'html.parser')\n",
    "    french_section = content_html.find_all(\"section\", class_=\"francais\")\n",
    "    lingala_section = content_html.find_all(\"section\", class_=\"lingala\")\n",
    "    if french_section and lingala_section:\n",
    "        french_section = french_section[0]\n",
    "        lingala_section = lingala_section[0]\n",
    "        song_title = french_section.h3.get_text()\n",
    "        song_artist = french_section.h5.em.get_text()\n",
    "        song_album = french_section.h5.get_text()\n",
    "        lyrics = list()\n",
    "        for french_text, lingala_text in zip(french_section.find_all(\"p\"), lingala_section.find_all(\"p\")):\n",
    "            lyric = {\"french\":french_text.get_text(), \"lingala\": lingala_text.get_text()}\n",
    "            lyrics.append(lyric)\n",
    "        return pd.DataFrame.from_records(lyrics), song_title, song_artist, song_album\n",
    "    else:\n",
    "        raise ValueError(\"This pages does not have lyrics\")"
   ]
  },
  {
   "cell_type": "code",
   "execution_count": 112,
   "metadata": {},
   "outputs": [
    {
     "data": {
      "text/plain": [
       "'http://www.ndombolo.co/chansons/traductions/amen.php'"
      ]
     },
     "execution_count": 112,
     "metadata": {},
     "output_type": "execute_result"
    }
   ],
   "source": [
    "f'{TRADUCTION_URL}{names[0]}'"
   ]
  },
  {
   "cell_type": "code",
   "execution_count": 113,
   "metadata": {},
   "outputs": [],
   "source": [
    "def parse_all_songs(names):\n",
    "    \"\"\"\n",
    "    from the names parse all the lyrics and return them in a list\n",
    "    \"\"\"\n",
    "    song_data = list()\n",
    "    for name in names:\n",
    "        full_url = f'{TRADUCTION_URL}{name}'\n",
    "        print(full_url)\n",
    "        try:\n",
    "            lyrics, song_title, song_artist, song_album = parse_song_lyrics(full_url)\n",
    "            song_data.append({\"lyrics\": lyrics, 'title':song_title,  'artist': song_artist, 'album': song_album})\n",
    "        except ValueError as exc:\n",
    "            log_error(exc)\n",
    "    return song_data"
   ]
  },
  {
   "cell_type": "code",
   "execution_count": 114,
   "metadata": {},
   "outputs": [
    {
     "name": "stdout",
     "output_type": "stream",
     "text": [
      "http://www.ndombolo.co/chansons/traductions/amen.php\n",
      "http://www.ndombolo.co/chansons/traductions/aminatasylla.php\n",
      "http://www.ndombolo.co/chansons/traductions/ausecour.php\n",
      "http://www.ndombolo.co/chansons/traductions/azalakiawa.php\n",
      "http://www.ndombolo.co/chansons/traductions/barrev.php\n",
      "This pages does not have lyrics\n",
      "http://www.ndombolo.co/chansons/traductions/biberon.php\n",
      "http://www.ndombolo.co/chansons/traductions/blandine.php\n",
      "http://www.ndombolo.co/chansons/traductions/blessuredamour.php\n",
      "http://www.ndombolo.co/chansons/traductions/calvaire.php\n",
      "http://www.ndombolo.co/chansons/traductions/choc.php\n",
      "http://www.ndombolo.co/chansons/traductions/consolation.php\n",
      "http://www.ndombolo.co/chansons/traductions/coucou.php\n",
      "http://www.ndombolo.co/chansons/traductions/coup2foudre.php\n",
      "http://www.ndombolo.co/chansons/traductions/dalhia.php\n",
      "http://www.ndombolo.co/chansons/traductions/dieuleternel.php\n",
      "http://www.ndombolo.co/chansons/traductions/djino.php\n",
      "http://www.ndombolo.co/chansons/traductions/eaubenite.php\n",
      "http://www.ndombolo.co/chansons/traductions/effervescent.php\n",
      "http://www.ndombolo.co/chansons/traductions/ekomba.php\n",
      "http://www.ndombolo.co/chansons/traductions/embargo.php\n",
      "http://www.ndombolo.co/chansons/traductions/epaka.php\n",
      "http://www.ndombolo.co/chansons/traductions/estceque.php\n",
      "http://www.ndombolo.co/chansons/traductions/etatcivil.php\n",
      "http://www.ndombolo.co/chansons/traductions/evangile.php\n",
      "http://www.ndombolo.co/chansons/traductions/footer.php\n",
      "This pages does not have lyrics\n",
      "http://www.ndombolo.co/chansons/traductions/foutadjalon.php\n",
      "http://www.ndombolo.co/chansons/traductions/gecoco.php\n",
      "http://www.ndombolo.co/chansons/traductions/insecticide.php\n",
      "http://www.ndombolo.co/chansons/traductions/kidiamfuka.php\n",
      "http://www.ndombolo.co/chansons/traductions/kokokoko.php\n",
      "http://www.ndombolo.co/chansons/traductions/ladifference.php\n",
      "http://www.ndombolo.co/chansons/traductions/limbisangamama.php\n",
      "http://www.ndombolo.co/chansons/traductions/liputa.php\n",
      "http://www.ndombolo.co/chansons/traductions/losambo.php\n",
      "http://www.ndombolo.co/chansons/traductions/loveinlove.php\n",
      "http://www.ndombolo.co/chansons/traductions/mabokopamba.php\n",
      "http://www.ndombolo.co/chansons/traductions/mama.php\n",
      "http://www.ndombolo.co/chansons/traductions/maria.php\n",
      "http://www.ndombolo.co/chansons/traductions/menu.php\n",
      "This pages does not have lyrics\n",
      "http://www.ndombolo.co/chansons/traductions/micko.php\n",
      "http://www.ndombolo.co/chansons/traductions/missdesmiss.php\n",
      "http://www.ndombolo.co/chansons/traductions/mokolomosusu.php\n",
      "http://www.ndombolo.co/chansons/traductions/moussoukousoukou.php\n",
      "http://www.ndombolo.co/chansons/traductions/ndoki.php\n",
      "http://www.ndombolo.co/chansons/traductions/nonassistance.php\n",
      "http://www.ndombolo.co/chansons/traductions/omba.php\n",
      "http://www.ndombolo.co/chansons/traductions/orphelinat.php\n",
      "http://www.ndombolo.co/chansons/traductions/papabonheur.php\n",
      "http://www.ndombolo.co/chansons/traductions/papaplus.php\n",
      "http://www.ndombolo.co/chansons/traductions/princessepathy.php\n",
      "http://www.ndombolo.co/chansons/traductions/profitez.php\n",
      "http://www.ndombolo.co/chansons/traductions/rdvmanque.php\n",
      "http://www.ndombolo.co/chansons/traductions/sanstetoucher.php\n",
      "http://www.ndombolo.co/chansons/traductions/sef.php\n",
      "http://www.ndombolo.co/chansons/traductions/sensinverse.php\n",
      "http://www.ndombolo.co/chansons/traductions/sos.php\n",
      "http://www.ndombolo.co/chansons/traductions/tempete.php\n",
      "http://www.ndombolo.co/chansons/traductions/testament.php\n",
      "http://www.ndombolo.co/chansons/traductions/touspepele.php\n",
      "http://www.ndombolo.co/chansons/traductions/trahison.php\n",
      "http://www.ndombolo.co/chansons/traductions/tubatuba.php\n",
      "http://www.ndombolo.co/chansons/traductions/wakeup.php\n",
      "http://www.ndombolo.co/chansons/traductions/yambanga.php\n",
      "http://www.ndombolo.co/chansons/traductions/yvesmakamu.php\n"
     ]
    }
   ],
   "source": [
    "song_data = parse_all_songs(names)"
   ]
  },
  {
   "cell_type": "code",
   "execution_count": 117,
   "metadata": {},
   "outputs": [],
   "source": [
    "songs_data = song_data"
   ]
  },
  {
   "cell_type": "code",
   "execution_count": 118,
   "metadata": {},
   "outputs": [],
   "source": [
    "# Saving everything to csv"
   ]
  },
  {
   "cell_type": "code",
   "execution_count": 125,
   "metadata": {},
   "outputs": [],
   "source": [
    "for song_data in songs_data:\n",
    "    song_data.get('lyrics').to_csv('../data/{}.csv'.format(song_data.get('title')), sep='|')"
   ]
  },
  {
   "cell_type": "markdown",
   "metadata": {},
   "source": [
    "## Reading all files"
   ]
  },
  {
   "cell_type": "code",
   "execution_count": 66,
   "metadata": {
    "scrolled": true
   },
   "outputs": [],
   "source": [
    "all_data = pd.concat(pd.read_csv(file, sep='|') for file in Path.cwd().parent.joinpath('data').glob('*.csv'))"
   ]
  },
  {
   "cell_type": "code",
   "execution_count": 67,
   "metadata": {},
   "outputs": [],
   "source": [
    "all_data.french = all_data.french.str.replace('\\n', ' ')\n",
    "all_data.lingala = all_data.lingala.str.replace('\\n', ' ')"
   ]
  },
  {
   "cell_type": "code",
   "execution_count": 68,
   "metadata": {},
   "outputs": [
    {
     "data": {
      "text/html": [
       "<div>\n",
       "<style scoped>\n",
       "    .dataframe tbody tr th:only-of-type {\n",
       "        vertical-align: middle;\n",
       "    }\n",
       "\n",
       "    .dataframe tbody tr th {\n",
       "        vertical-align: top;\n",
       "    }\n",
       "\n",
       "    .dataframe thead th {\n",
       "        text-align: right;\n",
       "    }\n",
       "</style>\n",
       "<table border=\"1\" class=\"dataframe\">\n",
       "  <thead>\n",
       "    <tr style=\"text-align: right;\">\n",
       "      <th></th>\n",
       "      <th>Unnamed: 0</th>\n",
       "      <th>french</th>\n",
       "      <th>lingala</th>\n",
       "    </tr>\n",
       "  </thead>\n",
       "  <tbody>\n",
       "    <tr>\n",
       "      <th>0</th>\n",
       "      <td>0.0</td>\n",
       "      <td>Comme le soleil, tu m’as séduit               ...</td>\n",
       "      <td>Lekola moyi yo seduire nga haa                ...</td>\n",
       "    </tr>\n",
       "    <tr>\n",
       "      <th>1</th>\n",
       "      <td>1.0</td>\n",
       "      <td>Je viens te faire voir mon cœur frappé par le ...</td>\n",
       "      <td>Nayé ko talisa yo motema ezui coup de foudre n...</td>\n",
       "    </tr>\n",
       "    <tr>\n",
       "      <th>2</th>\n",
       "      <td>2.0</td>\n",
       "      <td>L’amour ma pénétré dans les os, et m’oblige à ...</td>\n",
       "      <td>Bolingo ekoteli nga aah na mikuwa ekotinda na ...</td>\n",
       "    </tr>\n",
       "    <tr>\n",
       "      <th>3</th>\n",
       "      <td>3.0</td>\n",
       "      <td>Comme le soleil fait mal aux yeux, tu me donne...</td>\n",
       "      <td>Lekola moyi esuaka na miso yo pesa nga fievre ...</td>\n",
       "    </tr>\n",
       "    <tr>\n",
       "      <th>4</th>\n",
       "      <td>4.0</td>\n",
       "      <td>Comme le soleil la source du feu              ...</td>\n",
       "      <td>Lekola moyi source ya moto                    ...</td>\n",
       "    </tr>\n",
       "  </tbody>\n",
       "</table>\n",
       "</div>"
      ],
      "text/plain": [
       "   Unnamed: 0                                             french  \\\n",
       "0         0.0  Comme le soleil, tu m’as séduit               ...   \n",
       "1         1.0  Je viens te faire voir mon cœur frappé par le ...   \n",
       "2         2.0  L’amour ma pénétré dans les os, et m’oblige à ...   \n",
       "3         3.0  Comme le soleil fait mal aux yeux, tu me donne...   \n",
       "4         4.0  Comme le soleil la source du feu              ...   \n",
       "\n",
       "                                             lingala  \n",
       "0  Lekola moyi yo seduire nga haa                ...  \n",
       "1  Nayé ko talisa yo motema ezui coup de foudre n...  \n",
       "2  Bolingo ekoteli nga aah na mikuwa ekotinda na ...  \n",
       "3  Lekola moyi esuaka na miso yo pesa nga fievre ...  \n",
       "4  Lekola moyi source ya moto                    ...  "
      ]
     },
     "execution_count": 68,
     "metadata": {},
     "output_type": "execute_result"
    }
   ],
   "source": [
    "all_data.head()"
   ]
  },
  {
   "cell_type": "code",
   "execution_count": 71,
   "metadata": {},
   "outputs": [],
   "source": [
    "all_data = all_data.drop('Unnamed: 0', axis=1)"
   ]
  },
  {
   "cell_type": "code",
   "execution_count": 73,
   "metadata": {},
   "outputs": [],
   "source": [
    "all_data = all_data.reset_index()"
   ]
  },
  {
   "cell_type": "code",
   "execution_count": 74,
   "metadata": {
    "scrolled": false
   },
   "outputs": [
    {
     "data": {
      "text/html": [
       "<div>\n",
       "<style scoped>\n",
       "    .dataframe tbody tr th:only-of-type {\n",
       "        vertical-align: middle;\n",
       "    }\n",
       "\n",
       "    .dataframe tbody tr th {\n",
       "        vertical-align: top;\n",
       "    }\n",
       "\n",
       "    .dataframe thead th {\n",
       "        text-align: right;\n",
       "    }\n",
       "</style>\n",
       "<table border=\"1\" class=\"dataframe\">\n",
       "  <thead>\n",
       "    <tr style=\"text-align: right;\">\n",
       "      <th></th>\n",
       "      <th>index</th>\n",
       "      <th>french</th>\n",
       "      <th>lingala</th>\n",
       "    </tr>\n",
       "  </thead>\n",
       "  <tbody>\n",
       "    <tr>\n",
       "      <th>1921</th>\n",
       "      <td>4</td>\n",
       "      <td>Maman attend moi je vais venir                ...</td>\n",
       "      <td>Mama zela nga na koya he                      ...</td>\n",
       "    </tr>\n",
       "    <tr>\n",
       "      <th>1922</th>\n",
       "      <td>5</td>\n",
       "      <td>Maman attend moi je vais venir                ...</td>\n",
       "      <td>Ho ho ho Mama zela nga na koya he             ...</td>\n",
       "    </tr>\n",
       "    <tr>\n",
       "      <th>1923</th>\n",
       "      <td>6</td>\n",
       "      <td>Qu’est ce que t’as pas fait pour que je sois d...</td>\n",
       "      <td>Eloko nini oyo osali te pote ngai na mona nzel...</td>\n",
       "    </tr>\n",
       "    <tr>\n",
       "      <th>1924</th>\n",
       "      <td>7</td>\n",
       "      <td>Maman qu’est ce que tu ne fais pas            ...</td>\n",
       "      <td>Mama eloko nini yo salaka te                  ...</td>\n",
       "    </tr>\n",
       "    <tr>\n",
       "      <th>1925</th>\n",
       "      <td>8</td>\n",
       "      <td>Maman qu’est ce que tu ne fais pas            ...</td>\n",
       "      <td>Oh oh oh mama eloko nini yo salaka te eh      ...</td>\n",
       "    </tr>\n",
       "  </tbody>\n",
       "</table>\n",
       "</div>"
      ],
      "text/plain": [
       "      index                                             french  \\\n",
       "1921      4  Maman attend moi je vais venir                ...   \n",
       "1922      5  Maman attend moi je vais venir                ...   \n",
       "1923      6  Qu’est ce que t’as pas fait pour que je sois d...   \n",
       "1924      7  Maman qu’est ce que tu ne fais pas            ...   \n",
       "1925      8  Maman qu’est ce que tu ne fais pas            ...   \n",
       "\n",
       "                                                lingala  \n",
       "1921  Mama zela nga na koya he                      ...  \n",
       "1922  Ho ho ho Mama zela nga na koya he             ...  \n",
       "1923  Eloko nini oyo osali te pote ngai na mona nzel...  \n",
       "1924  Mama eloko nini yo salaka te                  ...  \n",
       "1925  Oh oh oh mama eloko nini yo salaka te eh      ...  "
      ]
     },
     "execution_count": 74,
     "metadata": {},
     "output_type": "execute_result"
    }
   ],
   "source": [
    "all_data.tail()"
   ]
  },
  {
   "cell_type": "code",
   "execution_count": 75,
   "metadata": {},
   "outputs": [],
   "source": [
    "all_data = all_data.drop('index', axis=1)"
   ]
  },
  {
   "cell_type": "code",
   "execution_count": 76,
   "metadata": {},
   "outputs": [
    {
     "data": {
      "text/html": [
       "<div>\n",
       "<style scoped>\n",
       "    .dataframe tbody tr th:only-of-type {\n",
       "        vertical-align: middle;\n",
       "    }\n",
       "\n",
       "    .dataframe tbody tr th {\n",
       "        vertical-align: top;\n",
       "    }\n",
       "\n",
       "    .dataframe thead th {\n",
       "        text-align: right;\n",
       "    }\n",
       "</style>\n",
       "<table border=\"1\" class=\"dataframe\">\n",
       "  <thead>\n",
       "    <tr style=\"text-align: right;\">\n",
       "      <th></th>\n",
       "      <th>french</th>\n",
       "      <th>lingala</th>\n",
       "    </tr>\n",
       "  </thead>\n",
       "  <tbody>\n",
       "    <tr>\n",
       "      <th>1921</th>\n",
       "      <td>Maman attend moi je vais venir                ...</td>\n",
       "      <td>Mama zela nga na koya he                      ...</td>\n",
       "    </tr>\n",
       "    <tr>\n",
       "      <th>1922</th>\n",
       "      <td>Maman attend moi je vais venir                ...</td>\n",
       "      <td>Ho ho ho Mama zela nga na koya he             ...</td>\n",
       "    </tr>\n",
       "    <tr>\n",
       "      <th>1923</th>\n",
       "      <td>Qu’est ce que t’as pas fait pour que je sois d...</td>\n",
       "      <td>Eloko nini oyo osali te pote ngai na mona nzel...</td>\n",
       "    </tr>\n",
       "    <tr>\n",
       "      <th>1924</th>\n",
       "      <td>Maman qu’est ce que tu ne fais pas            ...</td>\n",
       "      <td>Mama eloko nini yo salaka te                  ...</td>\n",
       "    </tr>\n",
       "    <tr>\n",
       "      <th>1925</th>\n",
       "      <td>Maman qu’est ce que tu ne fais pas            ...</td>\n",
       "      <td>Oh oh oh mama eloko nini yo salaka te eh      ...</td>\n",
       "    </tr>\n",
       "  </tbody>\n",
       "</table>\n",
       "</div>"
      ],
      "text/plain": [
       "                                                 french  \\\n",
       "1921  Maman attend moi je vais venir                ...   \n",
       "1922  Maman attend moi je vais venir                ...   \n",
       "1923  Qu’est ce que t’as pas fait pour que je sois d...   \n",
       "1924  Maman qu’est ce que tu ne fais pas            ...   \n",
       "1925  Maman qu’est ce que tu ne fais pas            ...   \n",
       "\n",
       "                                                lingala  \n",
       "1921  Mama zela nga na koya he                      ...  \n",
       "1922  Ho ho ho Mama zela nga na koya he             ...  \n",
       "1923  Eloko nini oyo osali te pote ngai na mona nzel...  \n",
       "1924  Mama eloko nini yo salaka te                  ...  \n",
       "1925  Oh oh oh mama eloko nini yo salaka te eh      ...  "
      ]
     },
     "execution_count": 76,
     "metadata": {},
     "output_type": "execute_result"
    }
   ],
   "source": [
    "all_data.tail()"
   ]
  },
  {
   "cell_type": "code",
   "execution_count": 77,
   "metadata": {},
   "outputs": [],
   "source": [
    "all_data.to_csv('../data/{}.csv'.format('all_data'), index=False, sep='|')"
   ]
  },
  {
   "cell_type": "code",
   "execution_count": 78,
   "metadata": {},
   "outputs": [
    {
     "data": {
      "text/plain": [
       "\"Ma vie d'amour s’arrête avec toi Viens me chercher\""
      ]
     },
     "execution_count": 78,
     "metadata": {},
     "output_type": "execute_result"
    }
   ],
   "source": [
    "all_data.loc[102, 'french']"
   ]
  },
  {
   "cell_type": "code",
   "execution_count": 79,
   "metadata": {},
   "outputs": [
    {
     "data": {
      "text/plain": [
       "\"Vie d'amour na nga esuki epayi na yo   yaka k'ozua n'o nga\""
      ]
     },
     "execution_count": 79,
     "metadata": {},
     "output_type": "execute_result"
    }
   ],
   "source": [
    "all_data.loc[102, 'lingala']"
   ]
  },
  {
   "cell_type": "code",
   "execution_count": 80,
   "metadata": {},
   "outputs": [
    {
     "data": {
      "text/plain": [
       "'FALLY\\xa0: Oh bazua ba bolingo bateka na zando ya ngabela EKATSHAKA'"
      ]
     },
     "execution_count": 80,
     "metadata": {},
     "output_type": "execute_result"
    }
   ],
   "source": [
    "all_data.loc[59, 'lingala']"
   ]
  },
  {
   "cell_type": "code",
   "execution_count": 81,
   "metadata": {},
   "outputs": [
    {
     "data": {
      "text/plain": [
       "\"FALLY\\xa0: Ils ont pris l'amour et l'ont vendu au grand marché\""
      ]
     },
     "execution_count": 81,
     "metadata": {},
     "output_type": "execute_result"
    }
   ],
   "source": [
    "all_data.loc[59, 'french']"
   ]
  },
  {
   "cell_type": "code",
   "execution_count": null,
   "metadata": {},
   "outputs": [],
   "source": []
  }
 ],
 "metadata": {
  "kernelspec": {
   "display_name": "Python 3.6.5 64-bit ('.venv')",
   "language": "python",
   "name": "python36564bitvenv9ccf5747eaff4a078a3f92ed0e0aa8db"
  },
  "language_info": {
   "codemirror_mode": {
    "name": "ipython",
    "version": 3
   },
   "file_extension": ".py",
   "mimetype": "text/x-python",
   "name": "python",
   "nbconvert_exporter": "python",
   "pygments_lexer": "ipython3",
   "version": "3.6.5"
  }
 },
 "nbformat": 4,
 "nbformat_minor": 4
}
